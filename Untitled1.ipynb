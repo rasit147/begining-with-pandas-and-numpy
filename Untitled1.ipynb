{
 "cells": [
  {
   "cell_type": "code",
   "execution_count": 1,
   "id": "f6c348f2",
   "metadata": {},
   "outputs": [],
   "source": [
    "import pandas as pd\n",
    "import numpy as np"
   ]
  },
  {
   "cell_type": "code",
   "execution_count": 2,
   "id": "6f944a2d",
   "metadata": {},
   "outputs": [],
   "source": [
    "df=pd.read_csv('deliveries.csv')"
   ]
  },
  {
   "cell_type": "code",
   "execution_count": 32,
   "id": "ec1a0dcf",
   "metadata": {},
   "outputs": [
    {
     "data": {
      "text/html": [
       "<div>\n",
       "<style scoped>\n",
       "    .dataframe tbody tr th:only-of-type {\n",
       "        vertical-align: middle;\n",
       "    }\n",
       "\n",
       "    .dataframe tbody tr th {\n",
       "        vertical-align: top;\n",
       "    }\n",
       "\n",
       "    .dataframe thead th {\n",
       "        text-align: right;\n",
       "    }\n",
       "</style>\n",
       "<table border=\"1\" class=\"dataframe\">\n",
       "  <thead>\n",
       "    <tr style=\"text-align: right;\">\n",
       "      <th></th>\n",
       "      <th>match_id</th>\n",
       "      <th>inning</th>\n",
       "      <th>batting_team</th>\n",
       "      <th>bowling_team</th>\n",
       "      <th>over</th>\n",
       "      <th>ball</th>\n",
       "      <th>batsman</th>\n",
       "      <th>non_striker</th>\n",
       "      <th>bowler</th>\n",
       "      <th>is_super_over</th>\n",
       "      <th>...</th>\n",
       "      <th>bye_runs</th>\n",
       "      <th>legbye_runs</th>\n",
       "      <th>noball_runs</th>\n",
       "      <th>penalty_runs</th>\n",
       "      <th>batsman_runs</th>\n",
       "      <th>extra_runs</th>\n",
       "      <th>total_runs</th>\n",
       "      <th>player_dismissed</th>\n",
       "      <th>dismissal_kind</th>\n",
       "      <th>fielder</th>\n",
       "    </tr>\n",
       "  </thead>\n",
       "  <tbody>\n",
       "    <tr>\n",
       "      <th>0</th>\n",
       "      <td>1</td>\n",
       "      <td>1</td>\n",
       "      <td>Sunrisers Hyderabad</td>\n",
       "      <td>Royal Challengers Bangalore</td>\n",
       "      <td>1</td>\n",
       "      <td>1</td>\n",
       "      <td>DA Warner</td>\n",
       "      <td>S Dhawan</td>\n",
       "      <td>TS Mills</td>\n",
       "      <td>0</td>\n",
       "      <td>...</td>\n",
       "      <td>0</td>\n",
       "      <td>0</td>\n",
       "      <td>0</td>\n",
       "      <td>0</td>\n",
       "      <td>0</td>\n",
       "      <td>0</td>\n",
       "      <td>0</td>\n",
       "      <td>NaN</td>\n",
       "      <td>NaN</td>\n",
       "      <td>NaN</td>\n",
       "    </tr>\n",
       "    <tr>\n",
       "      <th>1</th>\n",
       "      <td>1</td>\n",
       "      <td>1</td>\n",
       "      <td>Sunrisers Hyderabad</td>\n",
       "      <td>Royal Challengers Bangalore</td>\n",
       "      <td>1</td>\n",
       "      <td>2</td>\n",
       "      <td>DA Warner</td>\n",
       "      <td>S Dhawan</td>\n",
       "      <td>TS Mills</td>\n",
       "      <td>0</td>\n",
       "      <td>...</td>\n",
       "      <td>0</td>\n",
       "      <td>0</td>\n",
       "      <td>0</td>\n",
       "      <td>0</td>\n",
       "      <td>0</td>\n",
       "      <td>0</td>\n",
       "      <td>0</td>\n",
       "      <td>NaN</td>\n",
       "      <td>NaN</td>\n",
       "      <td>NaN</td>\n",
       "    </tr>\n",
       "    <tr>\n",
       "      <th>2</th>\n",
       "      <td>1</td>\n",
       "      <td>1</td>\n",
       "      <td>Sunrisers Hyderabad</td>\n",
       "      <td>Royal Challengers Bangalore</td>\n",
       "      <td>1</td>\n",
       "      <td>3</td>\n",
       "      <td>DA Warner</td>\n",
       "      <td>S Dhawan</td>\n",
       "      <td>TS Mills</td>\n",
       "      <td>0</td>\n",
       "      <td>...</td>\n",
       "      <td>0</td>\n",
       "      <td>0</td>\n",
       "      <td>0</td>\n",
       "      <td>0</td>\n",
       "      <td>4</td>\n",
       "      <td>0</td>\n",
       "      <td>4</td>\n",
       "      <td>NaN</td>\n",
       "      <td>NaN</td>\n",
       "      <td>NaN</td>\n",
       "    </tr>\n",
       "    <tr>\n",
       "      <th>3</th>\n",
       "      <td>1</td>\n",
       "      <td>1</td>\n",
       "      <td>Sunrisers Hyderabad</td>\n",
       "      <td>Royal Challengers Bangalore</td>\n",
       "      <td>1</td>\n",
       "      <td>4</td>\n",
       "      <td>DA Warner</td>\n",
       "      <td>S Dhawan</td>\n",
       "      <td>TS Mills</td>\n",
       "      <td>0</td>\n",
       "      <td>...</td>\n",
       "      <td>0</td>\n",
       "      <td>0</td>\n",
       "      <td>0</td>\n",
       "      <td>0</td>\n",
       "      <td>0</td>\n",
       "      <td>0</td>\n",
       "      <td>0</td>\n",
       "      <td>NaN</td>\n",
       "      <td>NaN</td>\n",
       "      <td>NaN</td>\n",
       "    </tr>\n",
       "  </tbody>\n",
       "</table>\n",
       "<p>4 rows × 21 columns</p>\n",
       "</div>"
      ],
      "text/plain": [
       "   match_id  inning         batting_team                 bowling_team  over  \\\n",
       "0         1       1  Sunrisers Hyderabad  Royal Challengers Bangalore     1   \n",
       "1         1       1  Sunrisers Hyderabad  Royal Challengers Bangalore     1   \n",
       "2         1       1  Sunrisers Hyderabad  Royal Challengers Bangalore     1   \n",
       "3         1       1  Sunrisers Hyderabad  Royal Challengers Bangalore     1   \n",
       "\n",
       "   ball    batsman non_striker    bowler  is_super_over  ...  bye_runs  \\\n",
       "0     1  DA Warner    S Dhawan  TS Mills              0  ...         0   \n",
       "1     2  DA Warner    S Dhawan  TS Mills              0  ...         0   \n",
       "2     3  DA Warner    S Dhawan  TS Mills              0  ...         0   \n",
       "3     4  DA Warner    S Dhawan  TS Mills              0  ...         0   \n",
       "\n",
       "   legbye_runs  noball_runs  penalty_runs  batsman_runs  extra_runs  \\\n",
       "0            0            0             0             0           0   \n",
       "1            0            0             0             0           0   \n",
       "2            0            0             0             4           0   \n",
       "3            0            0             0             0           0   \n",
       "\n",
       "   total_runs  player_dismissed dismissal_kind fielder  \n",
       "0           0               NaN            NaN     NaN  \n",
       "1           0               NaN            NaN     NaN  \n",
       "2           4               NaN            NaN     NaN  \n",
       "3           0               NaN            NaN     NaN  \n",
       "\n",
       "[4 rows x 21 columns]"
      ]
     },
     "execution_count": 32,
     "metadata": {},
     "output_type": "execute_result"
    }
   ],
   "source": [
    "df.head(4)"
   ]
  },
  {
   "cell_type": "code",
   "execution_count": 11,
   "id": "e6ff0224",
   "metadata": {},
   "outputs": [],
   "source": [
    "runs=df.groupby('batsman')"
   ]
  },
  {
   "cell_type": "code",
   "execution_count": 16,
   "id": "dc9bdb5f",
   "metadata": {},
   "outputs": [
    {
     "data": {
      "text/plain": [
       "(3494, 21)"
      ]
     },
     "execution_count": 16,
     "metadata": {},
     "output_type": "execute_result"
    }
   ],
   "source": [
    "runs.get_group('V Kohli').shape"
   ]
  },
  {
   "cell_type": "code",
   "execution_count": 19,
   "id": "fd5a7cf4",
   "metadata": {},
   "outputs": [
    {
     "data": {
      "text/plain": [
       "batsman\n",
       "SK Raina          4548\n",
       "V Kohli           4423\n",
       "RG Sharma         4207\n",
       "G Gambhir         4132\n",
       "DA Warner         4014\n",
       "RV Uthappa        3778\n",
       "CH Gayle          3651\n",
       "S Dhawan          3561\n",
       "MS Dhoni          3560\n",
       "AB de Villiers    3486\n",
       "Name: batsman_runs, dtype: int64"
      ]
     },
     "execution_count": 19,
     "metadata": {},
     "output_type": "execute_result"
    }
   ],
   "source": [
    "runs['batsman_runs'].sum().sort_values(ascending=False).head(10)"
   ]
  },
  {
   "cell_type": "code",
   "execution_count": 25,
   "id": "71eadeb4",
   "metadata": {},
   "outputs": [],
   "source": [
    "mask=df['batsman_runs']==6\n",
    "new_df=df[mask]"
   ]
  },
  {
   "cell_type": "code",
   "execution_count": 26,
   "id": "fbb55953",
   "metadata": {},
   "outputs": [
    {
     "data": {
      "text/plain": [
       "6523"
      ]
     },
     "execution_count": 26,
     "metadata": {},
     "output_type": "execute_result"
    }
   ],
   "source": [
    "new_df.shape[0]"
   ]
  },
  {
   "cell_type": "code",
   "execution_count": 29,
   "id": "47c79e84",
   "metadata": {},
   "outputs": [
    {
     "data": {
      "text/plain": [
       "batsman\n",
       "CH Gayle         266\n",
       "SK Raina         174\n",
       "RG Sharma        173\n",
       "V Kohli          160\n",
       "DA Warner        160\n",
       "                ... \n",
       "CK Langeveldt      1\n",
       "CR Woakes          1\n",
       "P Sahu             1\n",
       "DE Bollinger       1\n",
       "Basil Thampi       1\n",
       "Name: batsman_runs, Length: 301, dtype: int64"
      ]
     },
     "execution_count": 29,
     "metadata": {},
     "output_type": "execute_result"
    }
   ],
   "source": [
    "new_df.groupby('batsman')['batsman_runs'].count().sort_values(ascending=False)"
   ]
  },
  {
   "cell_type": "code",
   "execution_count": 30,
   "id": "38ee4bc2",
   "metadata": {},
   "outputs": [],
   "source": [
    "vk=df[df['batsman']=='V Kohli']"
   ]
  },
  {
   "cell_type": "code",
   "execution_count": 46,
   "id": "5894ae0a",
   "metadata": {},
   "outputs": [
    {
     "data": {
      "text/plain": [
       "bowling_team\n",
       "Chennai Super Kings    706\n",
       "Delhi Daredevils       661\n",
       "Kings XI Punjab        483\n",
       "Mumbai Indians         447\n",
       "Sunrisers Hyderabad    439\n",
       "Name: batsman_runs, dtype: int64"
      ]
     },
     "execution_count": 46,
     "metadata": {},
     "output_type": "execute_result"
    }
   ],
   "source": [
    "vk.groupby('bowling_team')['batsman_runs'].sum().sort_values(ascending=False).head()"
   ]
  },
  {
   "cell_type": "code",
   "execution_count": 48,
   "id": "8a12d54d",
   "metadata": {},
   "outputs": [
    {
     "data": {
      "text/plain": [
       "bowling_team\n",
       "Chennai Super Kings    6\n",
       "Deccan Chargers        6\n",
       "Delhi Daredevils       6\n",
       "Gujarat Lions          6\n",
       "Kings XI Punjab        6\n",
       "Name: batsman_runs, dtype: int64"
      ]
     },
     "execution_count": 48,
     "metadata": {},
     "output_type": "execute_result"
    }
   ],
   "source": [
    "vk.groupby('bowling_team')['batsman_runs'].max().sort_values(ascending=False).head()"
   ]
  },
  {
   "cell_type": "code",
   "execution_count": 55,
   "id": "c817ad98",
   "metadata": {},
   "outputs": [],
   "source": [
    "def runs_sored(batsman_name):\n",
    "    vk=df[df['batsman']==batsman_name]\n",
    "    return vk.groupby('bowling_team')['batsman_runs'].sum().sort_values(ascending=False).head(1)"
   ]
  },
  {
   "cell_type": "code",
   "execution_count": 56,
   "id": "7c439115",
   "metadata": {},
   "outputs": [
    {
     "data": {
      "text/plain": [
       "bowling_team\n",
       "Kolkata Knight Riders    677\n",
       "Name: batsman_runs, dtype: int64"
      ]
     },
     "execution_count": 56,
     "metadata": {},
     "output_type": "execute_result"
    }
   ],
   "source": [
    "runs_sored('DA Warner')"
   ]
  },
  {
   "cell_type": "code",
   "execution_count": 57,
   "id": "a8d2d34a",
   "metadata": {},
   "outputs": [],
   "source": [
    "# isin()\n",
    "# find the most destructive death over batsman in the history of IPL\n",
    "# strike Rate=(NUmber of runs/Number of balls)/100\n",
    "# min batsman 200 balls in over 16-20"
   ]
  },
  {
   "cell_type": "code",
   "execution_count": 58,
   "id": "da3c680c",
   "metadata": {},
   "outputs": [
    {
     "data": {
      "text/plain": [
       "batsman\n",
       "A Ashish Reddy     196\n",
       "A Chandila           7\n",
       "A Chopra            75\n",
       "A Choudhary         20\n",
       "A Flintoff          57\n",
       "                  ... \n",
       "YV Takawale        183\n",
       "Yashpal Singh       67\n",
       "Younis Khan          7\n",
       "Yuvraj Singh      2050\n",
       "Z Khan             141\n",
       "Name: batsman_runs, Length: 461, dtype: int64"
      ]
     },
     "execution_count": 58,
     "metadata": {},
     "output_type": "execute_result"
    }
   ],
   "source": [
    "df.groupby('batsman')['batsman_runs'].count()"
   ]
  },
  {
   "cell_type": "code",
   "execution_count": 64,
   "id": "57c7ead3",
   "metadata": {},
   "outputs": [
    {
     "data": {
      "text/plain": [
       "(43,)"
      ]
     },
     "execution_count": 64,
     "metadata": {},
     "output_type": "execute_result"
    }
   ],
   "source": [
    "death_over=df[df['over']>15]\n",
    "all_batsman=death_over.groupby('batsman')['batsman_runs'].count()\n",
    "x=all_batsman>200\n",
    "all_batsman[x].shape\n",
    "all_batsman[x].index"
   ]
  },
  {
   "cell_type": "code",
   "execution_count": 68,
   "id": "365a5344",
   "metadata": {},
   "outputs": [],
   "source": [
    "batsman_list=all_batsman[x].index.tolist()\n"
   ]
  },
  {
   "cell_type": "code",
   "execution_count": 72,
   "id": "b95cf4b6",
   "metadata": {},
   "outputs": [],
   "source": [
    "# Runs scored by all these 43 batsman\n",
    "# ball played by these 43 batsman\n",
    "\n",
    "final=df[df['batsman'].isin(batsman_list)]\n"
   ]
  },
  {
   "cell_type": "code",
   "execution_count": 77,
   "id": "9a2b72b0",
   "metadata": {},
   "outputs": [],
   "source": [
    "runs=final.groupby('batsman')['batsman_runs'].sum().sort_values(ascending=False)"
   ]
  },
  {
   "cell_type": "code",
   "execution_count": 78,
   "id": "cc52e539",
   "metadata": {},
   "outputs": [
    {
     "data": {
      "text/plain": [
       "batsman\n",
       "SK Raina            4548\n",
       "V Kohli             4423\n",
       "RG Sharma           4207\n",
       "DA Warner           4014\n",
       "RV Uthappa          3778\n",
       "S Dhawan            3561\n",
       "MS Dhoni            3560\n",
       "AB de Villiers      3486\n",
       "AM Rahane           3057\n",
       "YK Pathan           2922\n",
       "KD Karthik          2903\n",
       "Yuvraj Singh        2591\n",
       "JH Kallis           2427\n",
       "AT Rayudu           2416\n",
       "KA Pollard          2354\n",
       "MK Pandey           2223\n",
       "JP Duminy           1993\n",
       "DPMD Jayawardene    1808\n",
       "RA Jadeja           1732\n",
       "SPD Smith           1713\n",
       "MK Tiwary           1648\n",
       "DA Miller           1563\n",
       "WP Saha             1557\n",
       "NV Ojha             1553\n",
       "S Badrinath         1441\n",
       "BJ Hodge            1400\n",
       "DJ Hussey           1322\n",
       "SS Tiwary           1276\n",
       "DJ Bravo            1262\n",
       "IK Pathan           1150\n",
       "LRPL Taylor         1017\n",
       "Y Venugopal Rao      985\n",
       "JA Morkel            975\n",
       "KM Jadhav            893\n",
       "Harbhajan Singh      799\n",
       "STR Binny            766\n",
       "AD Mathews           724\n",
       "AR Patel             606\n",
       "JP Faulkner          527\n",
       "PP Chawla            515\n",
       "P Kumar              340\n",
       "A Mishra             340\n",
       "R Vinay Kumar        304\n",
       "Name: batsman_runs, dtype: int64"
      ]
     },
     "execution_count": 78,
     "metadata": {},
     "output_type": "execute_result"
    }
   ],
   "source": [
    "runs"
   ]
  },
  {
   "cell_type": "code",
   "execution_count": 83,
   "id": "b6fbcab5",
   "metadata": {},
   "outputs": [],
   "source": [
    "balls=final.groupby('batsman')['batsman_runs'].count().sort_values(ascending=False)"
   ]
  },
  {
   "cell_type": "code",
   "execution_count": 84,
   "id": "7caf0a0a",
   "metadata": {},
   "outputs": [
    {
     "data": {
      "text/plain": [
       "batsman\n",
       "V Kohli             3494\n",
       "SK Raina            3369\n",
       "RG Sharma           3274\n",
       "S Dhawan            3005\n",
       "RV Uthappa          2960\n",
       "DA Warner           2902\n",
       "MS Dhoni            2680\n",
       "AM Rahane           2602\n",
       "AB de Villiers      2402\n",
       "KD Karthik          2360\n",
       "JH Kallis           2291\n",
       "YK Pathan           2076\n",
       "Yuvraj Singh        2050\n",
       "AT Rayudu           1964\n",
       "MK Pandey           1901\n",
       "KA Pollard          1674\n",
       "JP Duminy           1634\n",
       "DPMD Jayawardene    1522\n",
       "RA Jadeja           1458\n",
       "MK Tiwary           1444\n",
       "NV Ojha             1356\n",
       "SPD Smith           1333\n",
       "S Badrinath         1245\n",
       "WP Saha             1219\n",
       "BJ Hodge            1153\n",
       "DA Miller           1135\n",
       "SS Tiwary           1111\n",
       "DJ Hussey           1101\n",
       "DJ Bravo            1032\n",
       "IK Pathan            985\n",
       "Y Venugopal Rao      865\n",
       "LRPL Taylor          847\n",
       "JA Morkel            712\n",
       "KM Jadhav            684\n",
       "STR Binny            619\n",
       "AD Mathews           599\n",
       "Harbhajan Singh      591\n",
       "AR Patel             494\n",
       "PP Chawla            467\n",
       "JP Faulkner          406\n",
       "A Mishra             382\n",
       "P Kumar              323\n",
       "R Vinay Kumar        285\n",
       "Name: batsman_runs, dtype: int64"
      ]
     },
     "execution_count": 84,
     "metadata": {},
     "output_type": "execute_result"
    }
   ],
   "source": [
    "balls"
   ]
  },
  {
   "cell_type": "code",
   "execution_count": 85,
   "id": "3d5cda5b",
   "metadata": {},
   "outputs": [],
   "source": [
    "sr=(runs/balls)*100"
   ]
  },
  {
   "cell_type": "code",
   "execution_count": 87,
   "id": "f5437c73",
   "metadata": {},
   "outputs": [
    {
     "data": {
      "text/plain": [
       "batsman\n",
       "AB de Villiers      145.129059\n",
       "YK Pathan           140.751445\n",
       "KA Pollard          140.621266\n",
       "DA Warner           138.318401\n",
       "DA Miller           137.709251\n",
       "JA Morkel           136.938202\n",
       "Harbhajan Singh     135.194585\n",
       "SK Raina            134.995548\n",
       "MS Dhoni            132.835821\n",
       "KM Jadhav           130.555556\n",
       "JP Faulkner         129.802956\n",
       "SPD Smith           128.507127\n",
       "RG Sharma           128.497251\n",
       "WP Saha             127.727646\n",
       "RV Uthappa          127.635135\n",
       "V Kohli             126.588437\n",
       "Yuvraj Singh        126.390244\n",
       "STR Binny           123.747981\n",
       "AT Rayudu           123.014257\n",
       "KD Karthik          123.008475\n",
       "AR Patel            122.672065\n",
       "DJ Bravo            122.286822\n",
       "JP Duminy           121.970624\n",
       "BJ Hodge            121.422376\n",
       "AD Mathews          120.868114\n",
       "DJ Hussey           120.072661\n",
       "LRPL Taylor         120.070838\n",
       "RA Jadeja           118.792867\n",
       "DPMD Jayawardene    118.791064\n",
       "S Dhawan            118.502496\n",
       "AM Rahane           117.486549\n",
       "MK Pandey           116.938453\n",
       "IK Pathan           116.751269\n",
       "S Badrinath         115.742972\n",
       "SS Tiwary           114.851485\n",
       "NV Ojha             114.528024\n",
       "MK Tiwary           114.127424\n",
       "Y Venugopal Rao     113.872832\n",
       "PP Chawla           110.278373\n",
       "R Vinay Kumar       106.666667\n",
       "JH Kallis           105.936272\n",
       "P Kumar             105.263158\n",
       "A Mishra             89.005236\n",
       "Name: batsman_runs, dtype: float64"
      ]
     },
     "execution_count": 87,
     "metadata": {},
     "output_type": "execute_result"
    }
   ],
   "source": [
    "sr.sort_values(ascending=False)"
   ]
  },
  {
   "cell_type": "code",
   "execution_count": null,
   "id": "667598b6",
   "metadata": {},
   "outputs": [],
   "source": [
    "# Merge\n"
   ]
  }
 ],
 "metadata": {
  "kernelspec": {
   "display_name": "Python 3 (ipykernel)",
   "language": "python",
   "name": "python3"
  },
  "language_info": {
   "codemirror_mode": {
    "name": "ipython",
    "version": 3
   },
   "file_extension": ".py",
   "mimetype": "text/x-python",
   "name": "python",
   "nbconvert_exporter": "python",
   "pygments_lexer": "ipython3",
   "version": "3.9.12"
  }
 },
 "nbformat": 4,
 "nbformat_minor": 5
}
